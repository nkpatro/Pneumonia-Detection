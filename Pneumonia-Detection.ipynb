{
 "cells": [
  {
   "metadata": {},
   "cell_type": "markdown",
   "source": "# **Pneumonia Detection Challenge**",
   "id": "5e6d125adee42b8c"
  },
  {
   "metadata": {},
   "cell_type": "markdown",
   "source": [
    "### Context\n",
    "Computer vision can be used in health care for identifying diseases. In Pneumonia detection we need to detect Inflammation of  the  lungs.  In  this  challenge,  you’re  required  to  build  an  algorithm  to  detect  a  visual  signal  for  pneumonia  in  medical images. Specifically, your algorithm needs to automatically locate lung opacities on chest radiographs.\n"
   ],
   "id": "80b3b9d8f5d9d701"
  },
  {
   "metadata": {},
   "cell_type": "markdown",
   "source": "### Data Description",
   "id": "4b7a2bfe93494830"
  },
  {
   "metadata": {},
   "cell_type": "markdown",
   "source": "## **Milestone - 1**",
   "id": "f05e90435e4551dc"
  },
  {
   "metadata": {},
   "cell_type": "markdown",
   "source": "### Step 1: Import the Data",
   "id": "f3990ea67e002714"
  },
  {
   "cell_type": "code",
   "execution_count": null,
   "id": "initial_id",
   "metadata": {
    "collapsed": true
   },
   "outputs": [],
   "source": [
    ""
   ]
  },
  {
   "metadata": {},
   "cell_type": "markdown",
   "source": "### Step 2: Map Training and Testing Images to Their Classes.",
   "id": "3a0b4aa6f10d7dde"
  },
  {
   "metadata": {},
   "cell_type": "markdown",
   "source": "### Step 3: Map Training Images to Their Annotations",
   "id": "7b266502043b0ab6"
  },
  {
   "metadata": {},
   "cell_type": "markdown",
   "source": "### Step 4: Preprocessing and Visualization of Different Classes",
   "id": "80d3c61ea2e8bff8"
  },
  {
   "metadata": {},
   "cell_type": "markdown",
   "source": "### Step 5: Display Images with Bounding Boxes",
   "id": "93e3ac68e0e9abd9"
  },
  {
   "metadata": {},
   "cell_type": "markdown",
   "source": "### Step 6: Design, Train, and Test Basic CNN Models",
   "id": "4c42de50a57cae3a"
  },
  {
   "metadata": {},
   "cell_type": "markdown",
   "source": "### Step 7: Interim Report",
   "id": "c946c802895cb2"
  }
 ],
 "metadata": {
  "kernelspec": {
   "display_name": "Python 3",
   "language": "python",
   "name": "python3"
  },
  "language_info": {
   "codemirror_mode": {
    "name": "ipython",
    "version": 2
   },
   "file_extension": ".py",
   "mimetype": "text/x-python",
   "name": "python",
   "nbconvert_exporter": "python",
   "pygments_lexer": "ipython2",
   "version": "2.7.6"
  }
 },
 "nbformat": 4,
 "nbformat_minor": 5
}
