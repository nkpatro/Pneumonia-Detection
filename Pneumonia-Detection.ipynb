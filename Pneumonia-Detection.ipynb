{
 "cells": [
  {
   "cell_type": "markdown",
   "id": "5e6d125adee42b8c",
   "metadata": {},
   "source": [
    "# **Pneumonia Detection Challenge**"
   ]
  },
  {
   "cell_type": "markdown",
   "id": "f8ad951f",
   "metadata": {},
   "source": [
    "### **Context**\n",
    "\n",
    "Computer vision can be used in health care for identifying diseases. In Pneumonia detection we need to detect Inflammation of  the  lungs.  In  this  challenge,  you’re  required  to  build  an  algorithm  to  detect  a  visual  signal  for  pneumonia  in  medical images. Specifically, your algorithm needs to automatically locate lung opacities on chest radiographs.\n"
   ]
  },
  {
   "cell_type": "markdown",
   "id": "afa8964c",
   "metadata": {},
   "source": [
    "###  **Milestone 1 – Binary Pneumonia Classification (Yes/No)**\n",
    "\n",
    "This milestone focuses on classifying whether an X-ray indicates **Pneumonia (1)** or **No Pneumonia (0)**.\n",
    "\n",
    "| Step  | Task                                                   | Description                                                                                                |\n",
    "| ----- | ------------------------------------------------------ | ---------------------------------------------------------------------------------------------------------- |\n",
    "| **1** | **Import the data**                                    | Load all required libraries and read input files: `labels.csv`, `class_info.csv`, `sample_submission.csv`. |\n",
    "| **2** | **Map training & testing images to its classes**       | Merge datasets using `patientId`, check column info, visualize head & tail.                                |\n",
    "| **3** | **Map training & testing images to its annotations**   | Extract bounding boxes from DICOM metadata and assign binary labels (0 or 1).                              |\n",
    "| **4** | **Preprocessing & visualization of different classes** | Check class distribution, univariate plots, check duplicates, missing data.                                |\n",
    "| **5** | **Display images with bounding box**                   | Render DICOMs using `pydicom`, validate bounding boxes for Pneumonia class.                                |\n",
    "| **6** | **Design, train and test basic CNN models**            | Build grayscale CNN (224×224), train & evaluate with early stopping, visualize loss/accuracy/metrics.      |\n",
    "| **7** | **Interim Report (Milestone 1 Submission)**            | Document insights, model architecture, confusion matrix, and export the notebook.                          |\n",
    "\n",
    "---\n",
    "\n",
    "###  **Milestone 2 – Pneumonia Localization (Bounding Box Detection)**\n",
    "\n",
    "This milestone focuses on localizing the actual **Pneumonia region using object detection**.\n",
    "\n",
    "| Step  | Task                                               | Description                                                                                   |\n",
    "| ----- | -------------------------------------------------- | --------------------------------------------------------------------------------------------- |\n",
    "| **1** | **Fine-tune trained CNN model for classification** | Apply class rebalancing, threshold tuning, and data augmentation.                             |\n",
    "| **2** | **Apply Transfer Learning model (Optional)**       | Use pretrained networks like ResNet, VGG, or DenseNet.                                        |\n",
    "| **3** | **Design, train and test RCNN & hybrid models**    | Use models like Faster-RCNN or YOLO to detect bounding boxes for Pneumonia regions.           |\n",
    "| **4** | **Pickle the model for future prediction**         | Serialize trained classification + detection model using `pickle` or `torch.save`.            |\n",
    "| **5** | **Final Report (Milestone 2 Submission)**          | Compile all outputs, visualizations, evaluation results, and submit polished notebook/report. |\n"
   ]
  },
  {
   "cell_type": "markdown",
   "id": "80b3b9d8f5d9d701",
   "metadata": {},
   "source": [
    "\n",
    "## **Data Description:** \n",
    "In the dataset, some of the features are labeled “Not Normal No Lung Opacity”. This extra third class indicates that while pneumonia was determined not to be present, there was nonetheless some type of abnormality on the image and oftentimes this finding may mimic the appearance of true pneumonia. Dicom original images: - Medical images are stored in a special format called DICOM files (*.dcm). They contain a combination of header metadata as well as underlying raw image arrays for pixel data.\n",
    "\n",
    "### **Dataset Overview:**\n",
    "\n",
    "* Images are provided in **DICOM (`.dcm`)** format and include metadata along with pixel data.\n",
    "* Associated `.csv` files provide:\n",
    "\n",
    "  * Binary labels (pneumonia or not)\n",
    "  * Bounding box coordinates (for pneumonia-positive cases)\n",
    "  * Detailed class categorization: `Lung Opacity`, `Normal`, and `No Lung Opacity`\n",
    "\n",
    "### **Data Fields**\n",
    "* patientId _- A patientId. Each patientId corresponds to a unique image.\n",
    "* x_ - the upper-left x coordinate of the bounding box.\n",
    "* y_ - the upper-left y coordinate of the bounding box.\n",
    "* width_ - the width of the bounding box.\n",
    "* height_ - the height of the bounding box.\n",
    "* Target_ - the binary Target, indicating whether this sample has evidence of pneumonia.\n",
    "\n"
   ]
  },
  {
   "cell_type": "markdown",
   "id": "f05e90435e4551dc",
   "metadata": {},
   "source": [
    "## **Milestone - 1**"
   ]
  },
  {
   "cell_type": "markdown",
   "id": "8bf0e9ff",
   "metadata": {},
   "source": [
    "### **Import the Libraries & Data**"
   ]
  },
  {
   "cell_type": "code",
   "execution_count": 54,
   "id": "181f7372674b9edd",
   "metadata": {
    "ExecuteTime": {
     "end_time": "2025-05-27T20:33:17.204988Z",
     "start_time": "2025-05-27T20:33:17.190033Z"
    }
   },
   "outputs": [],
   "source": [
    "# include all the imports here\n",
    "import os\n",
    "import pandas as pd\n",
    "import numpy as np\n",
    "import tensorflow as tf\n",
    "import cv2\n",
    "import pydicom\n",
    "import random\n",
    "import matplotlib.pyplot as plt\n",
    "\n",
    "from tensorflow.keras.applications import MobileNetV2\n",
    "from tensorflow.keras.models import Model, Sequential\n",
    "from tensorflow.keras.layers import (Conv2D, MaxPooling2D, Flatten, Dense,\n",
    "                                     Dropout, GlobalAveragePooling2D, Input)\n",
    "import seaborn as sns\n",
    "from sklearn.model_selection import train_test_split\n",
    "from sklearn.preprocessing import LabelEncoder\n",
    "from tensorflow.keras.utils import to_categorical\n",
    "from tensorflow.keras.utils import Sequence\n",
    "from tensorflow.keras.optimizers import Adam\n",
    "\n"
   ]
  },
  {
   "cell_type": "markdown",
   "id": "dcb830b0424dfe3d",
   "metadata": {},
   "source": [
    "#### **Loading CSV files**"
   ]
  },
  {
   "cell_type": "code",
   "execution_count": null,
   "id": "initial_id",
   "metadata": {
    "ExecuteTime": {
     "end_time": "2025-05-27T12:49:05.695807Z",
     "start_time": "2025-05-27T12:49:05.612032Z"
    },
    "collapsed": true
   },
   "outputs": [
    {
     "name": "stdout",
     "output_type": "stream",
     "text": [
      "Detailed clas info shape: (30227, 2)\n",
      "                              patientId                         class\n",
      "0  0004cfab-14fd-4e49-80ba-63a80b6bddd6  No Lung Opacity / Not Normal\n",
      "1  00313ee0-9eaa-42f4-b0ab-c148ed3241cd  No Lung Opacity / Not Normal\n",
      "2  00322d4d-1c29-4943-afc9-b6754be640eb  No Lung Opacity / Not Normal\n",
      "3  003d8fa0-6bf1-40ed-b54c-ac657f8495c5                        Normal\n",
      "4  00436515-870c-4b36-a041-de91049b9ab4                  Lung Opacity\n",
      "--------------------------------------------------------------------------------\n",
      "Sample Submission shape: (3000, 2)\n",
      "                              patientId PredictionString\n",
      "0  0000a175-0e68-4ca4-b1af-167204a7e0bc  0.5 0 0 100 100\n",
      "1  0005d3cc-3c3f-40b9-93c3-46231c3eb813  0.5 0 0 100 100\n",
      "2  000686d7-f4fc-448d-97a0-44fa9c5d3aa6  0.5 0 0 100 100\n",
      "3  000e3a7d-c0ca-4349-bb26-5af2d8993c3d  0.5 0 0 100 100\n",
      "4  00100a24-854d-423d-a092-edcf6179e061  0.5 0 0 100 100\n",
      "--------------------------------------------------------------------------------\n",
      "Train Labels shape: (30227, 6)\n",
      "                              patientId      x      y  width  height  Target\n",
      "0  0004cfab-14fd-4e49-80ba-63a80b6bddd6    NaN    NaN    NaN     NaN       0\n",
      "1  00313ee0-9eaa-42f4-b0ab-c148ed3241cd    NaN    NaN    NaN     NaN       0\n",
      "2  00322d4d-1c29-4943-afc9-b6754be640eb    NaN    NaN    NaN     NaN       0\n",
      "3  003d8fa0-6bf1-40ed-b54c-ac657f8495c5    NaN    NaN    NaN     NaN       0\n",
      "4  00436515-870c-4b36-a041-de91049b9ab4  264.0  152.0  213.0   379.0       1\n",
      "--------------------------------------------------------------------------------\n",
      "class\n",
      "No Lung Opacity / Not Normal    11821\n",
      "Lung Opacity                     9555\n",
      "Normal                           8851\n",
      "Name: count, dtype: int64\n"
     ]
    }
   ],
   "source": [
    "train_labels_path =  'stage_2_train_labels.csv'\n",
    "class_info_path = 'stage_2_detailed_class_info.csv'\n",
    "\n",
    "\n",
    "# Load CSV files\n",
    "train_labels_df = pd.read_csv(train_labels_path)\n",
    "class_info_df = pd.read_csv(class_info_path)\n",
    "\n",
    "# Display first few rows of each DataFrame\n",
    "print(\"Train Labels DataFrame (First 5 rows):\")\n",
    "print(\"-\" * 80)\n",
    "print(train_labels_df.head())\n",
    "print(\"\\n\\nClass Info DataFrame (First 5 rows):\")\n",
    "print(\"-\" * 80)\n",
    "print(class_info_df.head())\n",
    "print(\"-\" * 80)\n",
    "\n",
    "# Basic stats about the datasets\n",
    "print(\"\\nTrain Labels DataFrame Info:\")\n",
    "print(\"-\" * 80)\n",
    "print(f\"Shape: {train_labels_df.shape}\")\n",
    "print(f\"Columns: {train_labels_df.columns.tolist()}\")\n",
    "print(\"-\" * 80)\n",
    "print(\"\\nClass Info DataFrame Info:\")\n",
    "print(\"-\" * 80)\n",
    "print(f\"Shape: {class_info_df.shape}\")\n",
    "print(f\"Columns: {class_info_df.columns.tolist()}\")\n",
    "print(\"-\" * 80)\n",
    "\n",
    "# Check for missing values\n",
    "print(\"\\nMissing values in Train Labels DataFrame:\")\n",
    "print(\"-\" * 80)\n",
    "print(train_labels_df.isnull().sum())\n",
    "print(\"\\nMissing values in Class Info DataFrame:\")\n",
    "print(\"-\" * 80)\n",
    "print(class_info_df.isnull().sum())\n",
    "print(\"-\" * 80)\n",
    "\n",
    "# Count unique patients\n",
    "unique_patients_labels = train_labels_df['patientId'].nunique()\n",
    "unique_patients_class = class_info_df['patientId'].nunique()\n",
    "print(f\"\\nNumber of unique patients in Train Labels: {unique_patients_labels}\")\n",
    "print(\"-\" * 80)\n",
    "print(f\"Number of unique patients in Class Info: {unique_patients_class}\")\n",
    "print(\"-\" * 80)\n",
    "\n",
    "#Check for any Duplicate entries in Dataset\n",
    "print('Count of Duplicates: ', train_labels_df.duplicated().sum())\n",
    "print(\"-\" * 80)\n",
    "\n",
    "print('Count of Duplicates: ', class_info_df.duplicated().sum())\n",
    "print(\"-\" * 80)\n",
    "df_class_info_clean = class_info_df.drop_duplicates()\n",
    "print(\"After dropping duplicates:\", df_class_info_clean.shape)\n"
   ]
  },
  {
   "cell_type": "markdown",
   "id": "ae12dbad",
   "metadata": {},
   "source": [
    "##### Observation:\n",
    "\n",
    "* There are 30227 rows and 6 columns in Training Labels File.\n",
    "* There are 4 column with **float** datatype - x,y,width,height\n",
    "* There is 1 column with **object** datatype - patientId\n",
    "* There is 1 column with **int** datatype - Target\n",
    "* x,y,width,height,Target are numerical values\n",
    "* patientId is categorical value\n",
    "* There are many missing values. Let's review the msising values in Data Pre-Processing\n",
    "\n",
    "##### Observation:\n",
    "\n",
    "* There are 30227 rows and 2 columns in Class Info File.\n",
    "* There are 2 columns with **object** datatype - patientId, class\n",
    "* patientId and class are categorical value\n",
    "* There are 3543 duplicate values found, hence dropped duplicate values\n",
    "* After dropping there are 26684 rows and 2 columns"
   ]
  },
  {
   "cell_type": "markdown",
   "id": "3a0b4aa6f10d7dde",
   "metadata": {},
   "source": [
    "### **Map Training and Testing Images to Their Classes**"
   ]
  },
  {
   "cell_type": "markdown",
   "id": "29334c31e36d993a",
   "metadata": {},
   "source": [
    "#### Merge the cleaned train_labels and class_info dataframes based on patientId."
   ]
  },
  {
   "cell_type": "code",
   "execution_count": null,
   "id": "4dbf92f4fc8dae7d",
   "metadata": {
    "ExecuteTime": {
     "end_time": "2025-05-27T13:12:52.827164Z",
     "start_time": "2025-05-27T13:12:52.805715Z"
    }
   },
   "outputs": [],
   "source": [
    "# Merge train_labels with class_info to have labels and bounding boxes together\n",
    "train_data_merged = pd.merge(train_labels_df, df_class_info_clean, on='patientId', how='left')"
   ]
  },
  {
   "cell_type": "markdown",
   "id": "e72b4e86413d2a4a",
   "metadata": {},
   "source": [
    "##### Shape and first few rows of the dataset"
   ]
  },
  {
   "cell_type": "code",
   "execution_count": 26,
   "id": "5c2a2237c5a74cb3",
   "metadata": {
    "ExecuteTime": {
     "end_time": "2025-05-27T13:13:41.575599Z",
     "start_time": "2025-05-27T13:13:41.552660Z"
    }
   },
   "outputs": [
    {
     "name": "stdout",
     "output_type": "stream",
     "text": [
      "Merged DataFrame shape: (30227, 7)\n",
      "                              patientId      x      y  width  height  Target  \\\n",
      "0  0004cfab-14fd-4e49-80ba-63a80b6bddd6    NaN    NaN    NaN     NaN       0   \n",
      "1  00313ee0-9eaa-42f4-b0ab-c148ed3241cd    NaN    NaN    NaN     NaN       0   \n",
      "2  00322d4d-1c29-4943-afc9-b6754be640eb    NaN    NaN    NaN     NaN       0   \n",
      "3  003d8fa0-6bf1-40ed-b54c-ac657f8495c5    NaN    NaN    NaN     NaN       0   \n",
      "4  00436515-870c-4b36-a041-de91049b9ab4  264.0  152.0  213.0   379.0       1   \n",
      "\n",
      "                          class  \n",
      "0  No Lung Opacity / Not Normal  \n",
      "1  No Lung Opacity / Not Normal  \n",
      "2  No Lung Opacity / Not Normal  \n",
      "3                        Normal  \n",
      "4                  Lung Opacity  \n"
     ]
    }
   ],
   "source": [
    "# Check merged data\n",
    "print(\"Merged DataFrame shape:\", train_data_merged.shape)\n",
    "print(train_data_merged.head())"
   ]
  },
  {
   "cell_type": "markdown",
   "id": "d7ab50c063d7f51a",
   "metadata": {},
   "source": [
    "##### Statistical Summary of the Dataset"
   ]
  },
  {
   "cell_type": "code",
   "execution_count": 27,
   "id": "3fd87216b09f8297",
   "metadata": {
    "ExecuteTime": {
     "end_time": "2025-05-27T13:14:23.980770Z",
     "start_time": "2025-05-27T13:14:23.925917Z"
    }
   },
   "outputs": [
    {
     "data": {
      "text/html": [
       "<div>\n",
       "<style scoped>\n",
       "    .dataframe tbody tr th:only-of-type {\n",
       "        vertical-align: middle;\n",
       "    }\n",
       "\n",
       "    .dataframe tbody tr th {\n",
       "        vertical-align: top;\n",
       "    }\n",
       "\n",
       "    .dataframe thead th {\n",
       "        text-align: right;\n",
       "    }\n",
       "</style>\n",
       "<table border=\"1\" class=\"dataframe\">\n",
       "  <thead>\n",
       "    <tr style=\"text-align: right;\">\n",
       "      <th></th>\n",
       "      <th>count</th>\n",
       "      <th>unique</th>\n",
       "      <th>top</th>\n",
       "      <th>freq</th>\n",
       "      <th>mean</th>\n",
       "      <th>std</th>\n",
       "      <th>min</th>\n",
       "      <th>25%</th>\n",
       "      <th>50%</th>\n",
       "      <th>75%</th>\n",
       "      <th>max</th>\n",
       "    </tr>\n",
       "  </thead>\n",
       "  <tbody>\n",
       "    <tr>\n",
       "      <th>patientId</th>\n",
       "      <td>30227</td>\n",
       "      <td>26684</td>\n",
       "      <td>3239951b-6211-4290-b237-3d9ad17176db</td>\n",
       "      <td>4</td>\n",
       "      <td>NaN</td>\n",
       "      <td>NaN</td>\n",
       "      <td>NaN</td>\n",
       "      <td>NaN</td>\n",
       "      <td>NaN</td>\n",
       "      <td>NaN</td>\n",
       "      <td>NaN</td>\n",
       "    </tr>\n",
       "    <tr>\n",
       "      <th>x</th>\n",
       "      <td>9555.0</td>\n",
       "      <td>NaN</td>\n",
       "      <td>NaN</td>\n",
       "      <td>NaN</td>\n",
       "      <td>394.047724</td>\n",
       "      <td>204.574172</td>\n",
       "      <td>2.0</td>\n",
       "      <td>207.0</td>\n",
       "      <td>324.0</td>\n",
       "      <td>594.0</td>\n",
       "      <td>835.0</td>\n",
       "    </tr>\n",
       "    <tr>\n",
       "      <th>y</th>\n",
       "      <td>9555.0</td>\n",
       "      <td>NaN</td>\n",
       "      <td>NaN</td>\n",
       "      <td>NaN</td>\n",
       "      <td>366.83956</td>\n",
       "      <td>148.940488</td>\n",
       "      <td>2.0</td>\n",
       "      <td>249.0</td>\n",
       "      <td>365.0</td>\n",
       "      <td>478.5</td>\n",
       "      <td>881.0</td>\n",
       "    </tr>\n",
       "    <tr>\n",
       "      <th>width</th>\n",
       "      <td>9555.0</td>\n",
       "      <td>NaN</td>\n",
       "      <td>NaN</td>\n",
       "      <td>NaN</td>\n",
       "      <td>218.471376</td>\n",
       "      <td>59.289475</td>\n",
       "      <td>40.0</td>\n",
       "      <td>177.0</td>\n",
       "      <td>217.0</td>\n",
       "      <td>259.0</td>\n",
       "      <td>528.0</td>\n",
       "    </tr>\n",
       "    <tr>\n",
       "      <th>height</th>\n",
       "      <td>9555.0</td>\n",
       "      <td>NaN</td>\n",
       "      <td>NaN</td>\n",
       "      <td>NaN</td>\n",
       "      <td>329.269702</td>\n",
       "      <td>157.750755</td>\n",
       "      <td>45.0</td>\n",
       "      <td>203.0</td>\n",
       "      <td>298.0</td>\n",
       "      <td>438.0</td>\n",
       "      <td>942.0</td>\n",
       "    </tr>\n",
       "    <tr>\n",
       "      <th>Target</th>\n",
       "      <td>30227.0</td>\n",
       "      <td>NaN</td>\n",
       "      <td>NaN</td>\n",
       "      <td>NaN</td>\n",
       "      <td>0.316108</td>\n",
       "      <td>0.464963</td>\n",
       "      <td>0.0</td>\n",
       "      <td>0.0</td>\n",
       "      <td>0.0</td>\n",
       "      <td>1.0</td>\n",
       "      <td>1.0</td>\n",
       "    </tr>\n",
       "    <tr>\n",
       "      <th>class</th>\n",
       "      <td>30227</td>\n",
       "      <td>3</td>\n",
       "      <td>No Lung Opacity / Not Normal</td>\n",
       "      <td>11821</td>\n",
       "      <td>NaN</td>\n",
       "      <td>NaN</td>\n",
       "      <td>NaN</td>\n",
       "      <td>NaN</td>\n",
       "      <td>NaN</td>\n",
       "      <td>NaN</td>\n",
       "      <td>NaN</td>\n",
       "    </tr>\n",
       "  </tbody>\n",
       "</table>\n",
       "</div>"
      ],
      "text/plain": [
       "             count unique                                   top   freq  \\\n",
       "patientId    30227  26684  3239951b-6211-4290-b237-3d9ad17176db      4   \n",
       "x           9555.0    NaN                                   NaN    NaN   \n",
       "y           9555.0    NaN                                   NaN    NaN   \n",
       "width       9555.0    NaN                                   NaN    NaN   \n",
       "height      9555.0    NaN                                   NaN    NaN   \n",
       "Target     30227.0    NaN                                   NaN    NaN   \n",
       "class        30227      3          No Lung Opacity / Not Normal  11821   \n",
       "\n",
       "                 mean         std   min    25%    50%    75%    max  \n",
       "patientId         NaN         NaN   NaN    NaN    NaN    NaN    NaN  \n",
       "x          394.047724  204.574172   2.0  207.0  324.0  594.0  835.0  \n",
       "y           366.83956  148.940488   2.0  249.0  365.0  478.5  881.0  \n",
       "width      218.471376   59.289475  40.0  177.0  217.0  259.0  528.0  \n",
       "height     329.269702  157.750755  45.0  203.0  298.0  438.0  942.0  \n",
       "Target       0.316108    0.464963   0.0    0.0    0.0    1.0    1.0  \n",
       "class             NaN         NaN   NaN    NaN    NaN    NaN    NaN  "
      ]
     },
     "execution_count": 27,
     "metadata": {},
     "output_type": "execute_result"
    }
   ],
   "source": [
    "train_data_merged.describe(include = 'all').T"
   ]
  },
  {
   "cell_type": "markdown",
   "id": "39ebd73a6d7fadd9",
   "metadata": {},
   "source": [
    "##### Missing Values"
   ]
  },
  {
   "cell_type": "code",
   "execution_count": 28,
   "id": "6c501030bd4ba36a",
   "metadata": {
    "ExecuteTime": {
     "end_time": "2025-05-27T13:18:23.289266Z",
     "start_time": "2025-05-27T13:18:23.261341Z"
    }
   },
   "outputs": [
    {
     "data": {
      "text/html": [
       "<div>\n",
       "<style scoped>\n",
       "    .dataframe tbody tr th:only-of-type {\n",
       "        vertical-align: middle;\n",
       "    }\n",
       "\n",
       "    .dataframe tbody tr th {\n",
       "        vertical-align: top;\n",
       "    }\n",
       "\n",
       "    .dataframe thead th {\n",
       "        text-align: right;\n",
       "    }\n",
       "</style>\n",
       "<table border=\"1\" class=\"dataframe\">\n",
       "  <thead>\n",
       "    <tr style=\"text-align: right;\">\n",
       "      <th></th>\n",
       "      <th>Count</th>\n",
       "      <th>Percentage</th>\n",
       "    </tr>\n",
       "  </thead>\n",
       "  <tbody>\n",
       "    <tr>\n",
       "      <th>x</th>\n",
       "      <td>20672</td>\n",
       "      <td>68.389188</td>\n",
       "    </tr>\n",
       "    <tr>\n",
       "      <th>y</th>\n",
       "      <td>20672</td>\n",
       "      <td>68.389188</td>\n",
       "    </tr>\n",
       "    <tr>\n",
       "      <th>width</th>\n",
       "      <td>20672</td>\n",
       "      <td>68.389188</td>\n",
       "    </tr>\n",
       "    <tr>\n",
       "      <th>height</th>\n",
       "      <td>20672</td>\n",
       "      <td>68.389188</td>\n",
       "    </tr>\n",
       "  </tbody>\n",
       "</table>\n",
       "</div>"
      ],
      "text/plain": [
       "        Count  Percentage\n",
       "x       20672   68.389188\n",
       "y       20672   68.389188\n",
       "width   20672   68.389188\n",
       "height  20672   68.389188"
      ]
     },
     "execution_count": 28,
     "metadata": {},
     "output_type": "execute_result"
    }
   ],
   "source": [
    "#Check count and percentage of all missing values across all columns in dataset\n",
    "pd.DataFrame({'Count':train_data_merged.isnull().sum()[train_data_merged.isnull().sum()>0],\n",
    "              'Percentage':(train_data_merged.isnull().sum()[train_data_merged.isnull().sum()>0]/train_data_merged.shape[0])*100})"
   ]
  },
  {
   "cell_type": "markdown",
   "id": "1496392cc3a2d9e7",
   "metadata": {},
   "source": [
    "#### Inspect the distribution of class labels"
   ]
  },
  {
   "cell_type": "code",
   "execution_count": 24,
   "id": "1de18b75f8626442",
   "metadata": {
    "ExecuteTime": {
     "end_time": "2025-05-27T13:09:28.656491Z",
     "start_time": "2025-05-27T13:09:27.680090Z"
    }
   },
   "outputs": [
    {
     "name": "stdout",
     "output_type": "stream",
     "text": [
      "\n",
      "Class distribution:\n",
      " class\n",
      "No Lung Opacity / Not Normal    11821\n",
      "Lung Opacity                     9555\n",
      "Normal                           8851\n",
      "Name: count, dtype: int64\n"
     ]
    },
    {
     "data": {
      "image/png": "[encoded data removed]",
      "text/plain": [
       "<Figure size 800x500 with 1 Axes>"
      ]
     },
     "metadata": {},
     "output_type": "display_data"
    }
   ],
   "source": [
    "import seaborn as sns\n",
    "import matplotlib.pyplot as plt\n",
    "\n",
    "# Class distribution count\n",
    "class_distribution = train_data_merged['class'].value_counts()\n",
    "print(\"\\nClass distribution:\\n\", class_distribution)\n",
    "\n",
    "# Visualize class distribution\n",
    "plt.figure(figsize=(8, 5))\n",
    "sns.countplot(x='class', data=train_data_merged, palette='viridis', hue='class')\n",
    "plt.title(\"Distribution of Classes in Training Data\")\n",
    "plt.ylabel(\"Count\")\n",
    "plt.xlabel(\"Class\")\n",
    "plt.xticks(rotation=45)\n",
    "plt.show()\n"
   ]
  },
  {
   "cell_type": "code",
   "execution_count": 29,
   "id": "97a83f55c4ce2f2a",
   "metadata": {
    "ExecuteTime": {
     "end_time": "2025-05-27T17:43:18.118370Z",
     "start_time": "2025-05-27T17:43:18.016641Z"
    }
   },
   "outputs": [
    {
     "name": "stdout",
     "output_type": "stream",
     "text": [
      "\n",
      "Test Set Sample Submission Preview:\n",
      "                              patientId PredictionString\n",
      "0  0000a175-0e68-4ca4-b1af-167204a7e0bc  0.5 0 0 100 100\n",
      "1  0005d3cc-3c3f-40b9-93c3-46231c3eb813  0.5 0 0 100 100\n",
      "2  000686d7-f4fc-448d-97a0-44fa9c5d3aa6  0.5 0 0 100 100\n",
      "3  000e3a7d-c0ca-4349-bb26-5af2d8993c3d  0.5 0 0 100 100\n",
      "4  00100a24-854d-423d-a092-edcf6179e061  0.5 0 0 100 100\n"
     ]
    }
   ],
   "source": [
    "# Inspect the test set (sample submission file)\n",
    "print(\"\\nTest Set Sample Submission Preview:\")\n",
    "print(sample_submission_cleaned.head())\n"
   ]
  },
  {
   "cell_type": "code",
   "execution_count": null,
   "id": "9a72433f",
   "metadata": {},
   "outputs": [],
   "source": [
    "# function to create labeled barplots\n",
    "def labeled_barplot(data, feature, perc=False, n=None):\n",
    "    \"\"\"\n",
    "    Barplot with percentage at the top\n",
    "\n",
    "    data: dataframe\n",
    "    feature: dataframe column\n",
    "    perc: whether to display percentages instead of count (default is False)\n",
    "    n: displays the top n category levels (default is None, i.e., display all levels)\n",
    "    \"\"\"\n",
    "\n",
    "    total = len(data[feature])  # length of the column\n",
    "    count = data[feature].nunique()\n",
    "    if n is None:\n",
    "        plt.figure(figsize=(count + 2, 6))\n",
    "    else:\n",
    "        plt.figure(figsize=(n + 2, 6))\n",
    "\n",
    "    plt.xticks(rotation=90, fontsize=15)\n",
    "    ax = sns.countplot(\n",
    "        data=data,\n",
    "        x=feature,\n",
    "        palette=\"Paired\",\n",
    "        order=data[feature].value_counts().index[:n],\n",
    "    )\n",
    "\n",
    "    for p in ax.patches:\n",
    "        if perc == True:\n",
    "            label = \"{:.1f}%\".format(\n",
    "                100 * p.get_height() / total\n",
    "            )  # percentage of each class of the category\n",
    "        else:\n",
    "            label = p.get_height()  # count of each level of the category\n",
    "\n",
    "        x = p.get_x() + p.get_width() / 2  # width of the plot\n",
    "        y = p.get_height()  # height of the plot\n",
    "\n",
    "        ax.annotate(\n",
    "            label,\n",
    "            (x, y),\n",
    "            ha=\"center\",\n",
    "            va=\"center\",\n",
    "            size=12,\n",
    "            xytext=(0, 5),\n",
    "            textcoords=\"offset points\",\n",
    "        )  # annotate the percentage\n",
    "\n",
    "    plt.show()  # show the plot\n",
    "\n",
    "labeled_barplot(train_data_merged, \"class\")"
   ]
  },
  {
   "cell_type": "code",
   "execution_count": null,
   "id": "cc2c6502",
   "metadata": {},
   "outputs": [],
   "source": [
    "labeled_barplot(train_data_merged, \"Target\")"
   ]
  },
  {
   "cell_type": "markdown",
   "id": "7b266502043b0ab6",
   "metadata": {},
   "source": [
    "### **Map Training Images to Their Annotations**"
   ]
  },
  {
   "cell_type": "markdown",
   "id": "594ee1fcd4904962",
   "metadata": {},
   "source": [
    "#### Map patient IDs to their bounding boxes"
   ]
  },
  {
   "cell_type": "code",
   "execution_count": null,
   "id": "97cdcd5748322f14",
   "metadata": {
    "ExecuteTime": {
     "end_time": "2025-05-27T19:09:19.393796Z",
     "start_time": "2025-05-27T19:09:19.230725Z"
    }
   },
   "outputs": [
    {
     "name": "stdout",
     "output_type": "stream",
     "text": [
      "\n",
      "Bounding Boxes for patientId '00436515-870c-4b36-a041-de91049b9ab4':\n",
      "                              patientId      x      y  width  height  Target\n",
      "4  00436515-870c-4b36-a041-de91049b9ab4  264.0  152.0  213.0   379.0       1\n",
      "5  00436515-870c-4b36-a041-de91049b9ab4  562.0  152.0  256.0   453.0       1\n"
     ]
    }
   ],
   "source": [
    "# Group annotations by patientId clearly\n",
    "annotations_grouped = train_data_merged.groupby('patientId')\n",
    "\n",
    "# Example: Display annotations for a specific patient clearly\n",
    "sample_patient = train_data_merged[train_data_merged['Target'] == 1]['patientId'].iloc[0]\n",
    "\n",
    "print(f\"\\nBounding Boxes for patientId '{sample_patient}':\")\n",
    "print(annotations_grouped.get_group(sample_patient))\n"
   ]
  },
  {
   "cell_type": "markdown",
   "id": "c718f673aa5a09a8",
   "metadata": {},
   "source": [
    "#### Create a convenient annotation dictionary"
   ]
  },
  {
   "cell_type": "code",
   "execution_count": 31,
   "id": "42233acfe0dd8651",
   "metadata": {
    "ExecuteTime": {
     "end_time": "2025-05-27T19:12:17.971304Z",
     "start_time": "2025-05-27T19:12:08.777230Z"
    }
   },
   "outputs": [
    {
     "name": "stdout",
     "output_type": "stream",
     "text": [
      "Bounding boxes for patientId '00436515-870c-4b36-a041-de91049b9ab4':\n",
      "[[264. 152. 213. 379.   1.]\n",
      " [562. 152. 256. 453.   1.]]\n"
     ]
    }
   ],
   "source": [
    "# Create dictionary mapping patientId to list of bounding boxes (coordinates)\n",
    "bbox_dict = {}\n",
    "\n",
    "for patientId, group in annotations_grouped:\n",
    "    bboxes = group[['x', 'y', 'width', 'height', 'Target']].values\n",
    "    bbox_dict[patientId] = bboxes\n",
    "\n",
    "# Verify clearly\n",
    "print(f\"Bounding boxes for patientId '{sample_patient}':\")\n",
    "print(bbox_dict[sample_patient])\n"
   ]
  },
  {
   "cell_type": "markdown",
   "id": "869da4fe68a98f0d",
   "metadata": {},
   "source": [
    "#### Summary of Bounding Box Data"
   ]
  },
  {
   "cell_type": "code",
   "execution_count": null,
   "id": "bad339c5f00c0fb9",
   "metadata": {
    "ExecuteTime": {
     "end_time": "2025-05-27T19:13:27.147510Z",
     "start_time": "2025-05-27T19:13:26.997910Z"
    }
   },
   "outputs": [
    {
     "data": {
      "image/png": "[encoded data removed]",
      "text/plain": [
       "<Figure size 800x500 with 1 Axes>"
      ]
     },
     "metadata": {},
     "output_type": "display_data"
    }
   ],
   "source": [
    "# Bounding boxes co-ordinates\n",
    "plt.figure(figsize=(8, 5))\n",
    "pneumonia_boxes = train_data_merged[train_data_merged['binary_target'] == 1]\n",
    "plt.scatter(pneumonia_boxes['x'], pneumonia_boxes['y'], alpha=0.3, s=10)\n",
    "plt.title(\"Bounding Box Top-Left Coordinates\")\n",
    "plt.xlabel(\"x\")\n",
    "plt.ylabel(\"y\")\n",
    "plt.tight_layout()\n",
    "plt.show()"
   ]
  },
  {
   "cell_type": "markdown",
   "id": "80d3c61ea2e8bff8",
   "metadata": {},
   "source": [
    "### Step 4: Preprocessing and Visualization of Different Classes"
   ]
  },
  {
   "cell_type": "code",
   "execution_count": null,
   "id": "d8e4916fb5aec568",
   "metadata": {
    "ExecuteTime": {
     "end_time": "2025-05-27T19:45:44.520147Z",
     "start_time": "2025-05-27T19:45:44.493220Z"
    }
   },
   "outputs": [],
   "source": [
    "# Function to load and preprocess DICOM image\n",
    "def load_dicom_image(patient_id, img_size=(224, 224)):\n",
    "    \"\"\"\n",
    "    Load and preprocess a DICOM image for a given patient ID\n",
    "\n",
    "    Parameters:\n",
    "    - patient_id: ID of the patient\n",
    "    - img_size: Tuple of (height, width) for resizing\n",
    "\n",
    "    Returns:\n",
    "    - Preprocessed image as numpy array\n",
    "    \"\"\"\n",
    "    zip_path = 'stage_2_train_images.zip'\n",
    "    zip_archive = zipfile.ZipFile(zip_path, 'r')\n",
    "\n",
    "    dicom_filename = f\"stage_2_train_images/{patient_id}.dcm\"\n",
    "\n",
    "    if dicom_filename not in zip_archive.namelist():\n",
    "        raise FileNotFoundError(f\"{dicom_filename} not found in ZIP archive.\")\n",
    "\n",
    "    # Read file as bytes and load with pydicom\n",
    "    with zip_archive.open(dicom_filename) as file:\n",
    "        dicom_bytes = file.read()\n",
    "        dicom = pydicom.dcmread(io.BytesIO(dicom_bytes))\n",
    "\n",
    "    # Convert to numpy array\n",
    "    image = dicom.pixel_array\n",
    "\n",
    "    # Normalize pixel values to be between 0 and 1\n",
    "    image = image / np.max(image)\n",
    "\n",
    "    # Convert to grayscale if necessary\n",
    "    if image.ndim > 2:\n",
    "        image = cv2.cvtColor(image, cv2.COLOR_RGB2GRAY)\n",
    "\n",
    "    # Resize image\n",
    "    image = cv2.resize(image, img_size[::-1])\n",
    "\n",
    "    # Expand dimensions for CNN input (add channel dimension)\n",
    "    image = np.expand_dims(image, axis=-1)\n",
    "\n",
    "    return image"
   ]
  },
  {
   "cell_type": "code",
   "execution_count": null,
   "id": "9174ea09",
   "metadata": {},
   "outputs": [],
   "source": [
    "# Sample a few images from each class for visualization\n",
    "def sample_patients_from_class(class_name, n=4):\n",
    "    \"\"\"Sample n patient IDs from a given class\"\"\"\n",
    "    return random.sample(list(train_data_merged[train_data_merged['class'] == class_name]['patientId']), n)\n",
    "\n",
    "# Sample patient IDs from each class\n",
    "normal_patients = sample_patients_from_class('Normal',3)\n",
    "opacity_patients = sample_patients_from_class('Lung Opacity',3)\n",
    "not_normal_patients = sample_patients_from_class('No Lung Opacity / Not Normal',3)"
   ]
  },
  {
   "cell_type": "code",
   "execution_count": null,
   "id": "aed4d88d",
   "metadata": {},
   "outputs": [],
   "source": [
    "# Plot sample images from each class\n",
    "plt.figure(figsize=(15, 10))\n",
    "\n",
    "# Plot Normal images\n",
    "for i, patient_id in enumerate(normal_patients):\n",
    "    plt.subplot(3, 3, i+1)\n",
    "    img = load_dicom_image(patient_id)\n",
    "    plt.imshow(img[:, :, 0], cmap='gray')\n",
    "    plt.title(f\"Normal: {patient_id[:8]}...\")\n",
    "    plt.axis('off')\n",
    "\n",
    "# Plot Lung Opacity images\n",
    "for i, patient_id in enumerate(opacity_patients):\n",
    "    plt.subplot(3, 3, i+4)\n",
    "    img = load_dicom_image(patient_id)\n",
    "    plt.imshow(img[:, :, 0], cmap='gray')\n",
    "    plt.title(f\"Lung Opacity: {patient_id[:8]}...\")\n",
    "    plt.axis('off')\n",
    "\n",
    "# Plot Not Normal No Lung Opacity images\n",
    "for i, patient_id in enumerate(not_normal_patients):\n",
    "    plt.subplot(3, 3, i+7)\n",
    "    img = load_dicom_image(patient_id)\n",
    "    plt.imshow(img[:, :, 0], cmap='gray')\n",
    "    plt.title(f\"Not Normal: {patient_id[:8]}...\")\n",
    "    plt.axis('off')\n",
    "\n",
    "plt.tight_layout()\n",
    "plt.show()"
   ]
  },
  {
   "cell_type": "code",
   "execution_count": null,
   "id": "4ee216c1",
   "metadata": {},
   "outputs": [],
   "source": [
    "# Function to load DICOM image with original size\n",
    "def load_original_dicom(patient_id):\n",
    "    \"\"\"Load DICOM image without resizing\"\"\"\n",
    "    zip_path = 'stage_2_train_images.zip'\n",
    "    zip_archive = zipfile.ZipFile(zip_path, 'r')\n",
    "\n",
    "    dicom_filename = f\"stage_2_train_images/{patient_id}.dcm\"\n",
    "\n",
    "    if dicom_filename not in zip_archive.namelist():\n",
    "        raise FileNotFoundError(f\"{dicom_filename} not found in ZIP archive.\")\n",
    "\n",
    "    # Read file as bytes and load with pydicom\n",
    "    with zip_archive.open(dicom_filename) as file:\n",
    "        dicom_bytes = file.read()\n",
    "        dicom = pydicom.dcmread(io.BytesIO(dicom_bytes))\n",
    "\n",
    "    image = dicom.pixel_array\n",
    "    image = image / np.max(image)\n",
    "    if image.ndim > 2:\n",
    "        image = cv2.cvtColor(image, cv2.COLOR_RGB2GRAY)\n",
    "    return image"
   ]
  },
  {
   "cell_type": "code",
   "execution_count": null,
   "id": "07e0a315",
   "metadata": {},
   "outputs": [],
   "source": [
    "# Function to draw bounding boxes on image\n",
    "def draw_boxes(image, boxes):\n",
    "    \"\"\"Draw bounding boxes on the image\"\"\"\n",
    "\n",
    "    # Ensure image is in uint8 format (0-255)\n",
    "    if image.dtype != np.uint8:\n",
    "        # Normalize to 0-255 and convert to uint8\n",
    "        image = cv2.normalize(image, None, 0, 255, cv2.NORM_MINMAX)\n",
    "        image = image.astype(np.uint8)\n",
    "\n",
    "    # Convert grayscale image to RGB for colored boxes\n",
    "    image_color = cv2.cvtColor(image, cv2.COLOR_GRAY2RGB)\n",
    "\n",
    "    for box in boxes:\n",
    "        x, y = int(box['x']), int(box['y'])\n",
    "        w, h = int(box['width']), int(box['height'])\n",
    "        image_color = cv2.rectangle(image_color, (x, y), (x + w, y + h), (255, 0, 0), 2)\n",
    "\n",
    "    return image_color"
   ]
  },
  {
   "cell_type": "code",
   "execution_count": null,
   "id": "90bb66f3",
   "metadata": {},
   "outputs": [],
   "source": [
    "# Sample a few patients with Lung Opacity (which have bounding boxes)\n",
    "opacity_patients = sample_patients_from_class('Lung Opacity')\n",
    "opacity_with_boxes = [pid for pid in opacity_patients if pid in patient_boxes]\n",
    "\n",
    "if not opacity_with_boxes:\n",
    "    opacity_with_boxes = list(set(patient_boxes.keys()) &\n",
    "                             set(train_data_merged[train_data_merged['class'] == 'Lung Opacity']['patientId']))[:4]\n"
   ]
  },
  {
   "cell_type": "code",
   "execution_count": null,
   "id": "f9e1ee3d",
   "metadata": {},
   "outputs": [],
   "source": [
    "# Plot images with bounding boxes\n",
    "plt.figure(figsize=(15, 15))\n",
    "\n",
    "for i, patient_id in enumerate(opacity_with_boxes[:4]):\n",
    "    try:\n",
    "        plt.subplot(2, 2, i + 1)\n",
    "        img = load_original_dicom(patient_id)\n",
    "\n",
    "        if img is None:\n",
    "            print(f\"[Warning] Image for patient {patient_id} is None.\")\n",
    "            continue\n",
    "\n",
    "        if patient_id in patient_boxes:\n",
    "            img_with_boxes = draw_boxes(img, patient_boxes[patient_id])\n",
    "            plt.imshow(img_with_boxes, cmap='gray')\n",
    "        else:\n",
    "            plt.imshow(img, cmap='gray')\n",
    "\n",
    "        plt.title(f\"Patient: {patient_id[:9]}... (Lung Opacity)\")\n",
    "        plt.axis('off')\n",
    "\n",
    "    except Exception as e:\n",
    "        print(f\"[Error] Failed on patient {patient_id}: {e}\")\n",
    "\n",
    "plt.tight_layout()\n",
    "plt.show()\n"
   ]
  },
  {
   "cell_type": "markdown",
   "id": "4f72c8a39c4fa87b",
   "metadata": {},
   "source": [
    "#### **Inspect Class Distribution**"
   ]
  },
  {
   "cell_type": "code",
   "execution_count": null,
   "id": "275d984660a6ffd4",
   "metadata": {
    "ExecuteTime": {
     "end_time": "2025-05-27T19:50:35.618824Z",
     "start_time": "2025-05-27T19:50:35.369492Z"
    }
   },
   "outputs": [
    {
     "name": "stderr",
     "output_type": "stream",
     "text": [
      "C:\\Users\\nkpat\\AppData\\Local\\Temp\\ipykernel_20676\\3668924464.py:8: FutureWarning: \n",
      "\n",
      "Passing `palette` without assigning `hue` is deprecated and will be removed in v0.14.0. Assign the `x` variable to `hue` and set `legend=False` for the same effect.\n",
      "\n",
      "  sns.countplot(x='class', data=train_data_merged, palette='viridis')\n"
     ]
    },
    {
     "data": {
      "image/png": "[encoded data removed]",
      "text/plain": [
       "<Figure size 800x500 with 1 Axes>"
      ]
     },
     "metadata": {},
     "output_type": "display_data"
    }
   ],
   "source": [
    "# Visualize distribution of bounding box dimensions\n",
    "plt.figure(figsize=(12,5))\n",
    "plt.subplot(1,2,1)\n",
    "sns.histplot(train_data_merged['width'], bins=10, kde=True, color='skyblue')\n",
    "plt.title('Distribution of Bounding Box Widths')\n",
    "plt.xlabel('Width')\n",
    "\n",
    "plt.subplot(1,2,2)\n",
    "sns.histplot(train_data_merged['height'], bins=10, kde=True, color='salmon')\n",
    "plt.title('Distribution of Bounding Box Heights')\n",
    "plt.xlabel('Height')\n",
    "\n",
    "plt.tight_layout()\n",
    "plt.show()\n"
   ]
  },
  {
   "cell_type": "code",
   "execution_count": null,
   "id": "25cc2424",
   "metadata": {},
   "outputs": [],
   "source": [
    "# Create a scatter plot of bounding box positions\n",
    "plt.figure(figsize=(8,8))\n",
    "sns.scatterplot(\n",
    "    x='x', y='y',\n",
    "    hue='Target',\n",
    "    size='width', sizes=(20, 200),\n",
    "    data=train_data_merged, palette=['green', 'red']\n",
    ")\n",
    "plt.title('Bounding Box Positions by Class')\n",
    "plt.xlabel('X Coordinate')\n",
    "plt.ylabel('Y Coordinate')\n",
    "plt.gca().invert_yaxis()  # Invert Y-axis to match image coordinates\n",
    "plt.show()"
   ]
  },
  {
   "cell_type": "code",
   "execution_count": null,
   "id": "80192a9b",
   "metadata": {},
   "outputs": [],
   "source": [
    "# Calculate centers of bounding boxes\n",
    "train_data_merged['center_x'] = train_data_merged['x'] + train_data_merged['width']/2\n",
    "train_data_merged['center_y'] = train_data_merged['y'] + train_data_merged['height']/2\n",
    "\n",
    "# Create separate DataFrames for each class\n",
    "pneumonia_df = train_data_merged[train_data_merged['Target'] == 1]\n",
    "\n",
    "# Plot heatmaps\n",
    "fig, (ax1, ax2) = plt.subplots(1, 2, figsize=(12, 5))\n",
    "\n",
    "# Pneumonia heatmap\n",
    "sns.kdeplot(x=pneumonia_df['center_x'], y=pneumonia_df['center_y'],\n",
    "            cmap='Reds', fill=True, ax=ax1)\n",
    "ax1.set_title('Pneumonia Annotation Density')\n",
    "ax1.invert_yaxis()\n",
    "\n",
    "plt.tight_layout()\n",
    "plt.show()\n"
   ]
  },
  {
   "cell_type": "markdown",
   "id": "4c42de50a57cae3a",
   "metadata": {},
   "source": [
    "### **Design, Train, and Test Basic CNN Models**"
   ]
  },
  {
   "cell_type": "markdown",
   "id": "dda619501b173d3",
   "metadata": {},
   "source": [
    "#### **Encode Labels and Prepare Train/Validation Split**"
   ]
  },
  {
   "cell_type": "code",
   "execution_count": null,
   "id": "ca0ad53df6f5d64c",
   "metadata": {
    "ExecuteTime": {
     "end_time": "2025-05-27T20:35:46.397206Z",
     "start_time": "2025-05-27T20:35:46.338364Z"
    }
   },
   "outputs": [],
   "source": [
    "# Prepare class labels\n",
    "le = LabelEncoder()\n",
    "train_data_merged['label'] = le.fit_transform(train_data_merged['class'])\n",
    "\n",
    "# Train/Validation split\n",
    "train_ids, val_ids, train_labels, val_labels = train_test_split(\n",
    "    train_data_merged['patientId'], train_data_merged['label'], stratify=train_data_merged['label'], test_size=0.2, random_state=42)\n"
   ]
  },
  {
   "cell_type": "markdown",
   "id": "8ddd9f89c6d6d6ec",
   "metadata": {},
   "source": [
    "#### **Data Generators**"
   ]
  },
  {
   "cell_type": "code",
   "execution_count": 56,
   "id": "e508b5a0891b6b1a",
   "metadata": {
    "ExecuteTime": {
     "end_time": "2025-05-27T20:35:48.793358Z",
     "start_time": "2025-05-27T20:35:48.783384Z"
    }
   },
   "outputs": [],
   "source": [
    "\n",
    "class PneumoniaDataGenerator(Sequence):\n",
    "    def __init__(self, patient_ids, labels, processor, batch_size=32, image_size=256, shuffle=True):\n",
    "        self.patient_ids = list(patient_ids)\n",
    "        self.labels = list(labels)\n",
    "        self.processor = processor\n",
    "        self.batch_size = batch_size\n",
    "        self.image_size = image_size\n",
    "        self.shuffle = shuffle\n",
    "        self.on_epoch_end()\n",
    "\n",
    "    def __len__(self):\n",
    "        return len(self.patient_ids) // self.batch_size\n",
    "\n",
    "    def __getitem__(self, index):\n",
    "        ids = self.patient_ids[index * self.batch_size:(index + 1) * self.batch_size]\n",
    "        y = self.labels[index * self.batch_size:(index + 1) * self.batch_size]\n",
    "\n",
    "        X = np.array([self.processor.get_resized_dicom_image(pid, size=self.image_size) for pid in ids])\n",
    "        y = to_categorical(y, num_classes=3)\n",
    "        return X, y\n",
    "\n",
    "    def on_epoch_end(self):\n",
    "        if self.shuffle:\n",
    "            temp = list(zip(self.patient_ids, self.labels))\n",
    "            random.shuffle(temp)\n",
    "            self.patient_ids, self.labels = zip(*temp)\n"
   ]
  },
  {
   "cell_type": "code",
   "execution_count": 57,
   "id": "71984a79dfb17fc5",
   "metadata": {
    "ExecuteTime": {
     "end_time": "2025-05-27T20:35:51.924545Z",
     "start_time": "2025-05-27T20:35:51.912576Z"
    }
   },
   "outputs": [],
   "source": [
    "class MobileNetDataGenerator(PneumoniaDataGenerator):\n",
    "    def __getitem__(self, index):\n",
    "        X, y = super().__getitem__(index)\n",
    "        X = np.repeat(X, 3, axis=-1)  # convert (H, W, 1) -> (H, W, 3)\n",
    "        return X, y\n"
   ]
  },
  {
   "cell_type": "markdown",
   "id": "83afe76f209c1deb",
   "metadata": {},
   "source": [
    "#### **ModelBuilder**"
   ]
  },
  {
   "cell_type": "code",
   "execution_count": null,
   "id": "3412a7561bba60e",
   "metadata": {
    "ExecuteTime": {
     "end_time": "2025-05-27T20:35:54.861265Z",
     "start_time": "2025-05-27T20:35:54.851291Z"
    }
   },
   "outputs": [],
   "source": [
    "\n",
    "class ModelBuilder:\n",
    "    def __init__(self, input_shape, num_classes=3):\n",
    "        self.input_shape = input_shape\n",
    "        self.num_classes = num_classes\n",
    "\n",
    "    def build_basic_cnn(self):\n",
    "        model = Sequential([\n",
    "            Conv2D(32, (3,3), activation='relu', input_shape=self.input_shape),\n",
    "            MaxPooling2D(2, 2),\n",
    "            Conv2D(64, (3,3), activation='relu'),\n",
    "            MaxPooling2D(2, 2),\n",
    "            Conv2D(128, (3,3), activation='relu'),\n",
    "            MaxPooling2D(2, 2),\n",
    "            Flatten(),\n",
    "            Dense(128, activation='relu'),\n",
    "            Dropout(0.5),\n",
    "            Dense(self.num_classes, activation='softmax')\n",
    "        ])\n",
    "        return model\n",
    "\n",
    "    def build_deeper_cnn(self):\n",
    "        model = Sequential([\n",
    "            Conv2D(32, (3,3), activation='relu', input_shape=self.input_shape),\n",
    "            MaxPooling2D(2, 2),\n",
    "            Conv2D(64, (3,3), activation='relu'),\n",
    "            MaxPooling2D(2, 2),\n",
    "            Conv2D(128, (3,3), activation='relu'),\n",
    "            MaxPooling2D(2, 2),\n",
    "            Conv2D(256, (3,3), activation='relu'),\n",
    "            MaxPooling2D(2, 2),\n",
    "            Flatten(),\n",
    "            Dense(256, activation='relu'),\n",
    "            Dropout(0.5),\n",
    "            Dense(self.num_classes, activation='softmax')\n",
    "        ])\n",
    "        return model\n",
    "\n",
    "    def build_lenet5(self):\n",
    "        model = Sequential([\n",
    "            Input(shape=self.input_shape),\n",
    "            Conv2D(6, kernel_size=(5, 5), activation='tanh'),\n",
    "            AveragePooling2D(pool_size=(2, 2)),\n",
    "            Conv2D(16, kernel_size=(5, 5), activation='tanh'),\n",
    "            AveragePooling2D(pool_size=(2, 2)),\n",
    "            Flatten(),\n",
    "            Dense(120, activation='tanh'),\n",
    "            Dense(84, activation='tanh'),\n",
    "            Dense(self.num_classes, activation='softmax')\n",
    "        ])\n",
    "        return model\n",
    "        \n",
    "    def build_mobilenetv2(self):\n",
    "        base_model = MobileNetV2(weights='imagenet', include_top=False, input_shape=(256, 256, 3))\n",
    "        base_model.trainable = False\n",
    "\n",
    "        inputs = Input(shape=(256, 256, 3))\n",
    "        x = base_model(inputs, training=False)\n",
    "        x = GlobalAveragePooling2D()(x)\n",
    "        x = Dense(128, activation='relu')(x)\n",
    "        outputs = Dense(self.num_classes, activation='softmax')(x)\n",
    "\n",
    "        model = Model(inputs, outputs)\n",
    "        return model\n"
   ]
  },
  {
   "cell_type": "markdown",
   "id": "95f4f591e4241036",
   "metadata": {},
   "source": [
    "#### **TrainingManager**"
   ]
  },
  {
   "cell_type": "code",
   "execution_count": null,
   "id": "4ceeed7b214425da",
   "metadata": {
    "ExecuteTime": {
     "end_time": "2025-05-27T20:35:58.455703Z",
     "start_time": "2025-05-27T20:35:58.440743Z"
    }
   },
   "outputs": [],
   "source": [
    "class TrainingManager:\n",
    "    def __init__(self, processor, train_ids, train_labels, val_ids, val_labels, batch_size=32):\n",
    "        self.processor = processor\n",
    "        self.train_ids = train_ids\n",
    "        self.train_labels = train_labels\n",
    "        self.val_ids = val_ids\n",
    "        self.val_labels = val_labels\n",
    "        self.batch_size = batch_size\n",
    "\n",
    "    def get_generator(self, model_type):\n",
    "        if model_type == 'MobileNetV2':\n",
    "            return (\n",
    "                MobileNetDataGenerator(self.train_ids, self.train_labels, self.processor, batch_size=self.batch_size),\n",
    "                MobileNetDataGenerator(self.val_ids, self.val_labels, self.processor, batch_size=self.batch_size)\n",
    "            )\n",
    "        else:\n",
    "            return (\n",
    "                PneumoniaDataGenerator(self.train_ids, self.train_labels, self.processor, batch_size=self.batch_size),\n",
    "                PneumoniaDataGenerator(self.val_ids, self.val_labels, self.processor, batch_size=self.batch_size)\n",
    "            )\n",
    "\n",
    "    def train_model(self, model_type: str, epochs=5):\n",
    "        input_shape = (256, 256, 1) if model_type != 'MobileNetV2' else (256, 256, 3)\n",
    "        builder = ModelBuilder(input_shape=input_shape)\n",
    "\n",
    "        if model_type == 'BasicCNN':\n",
    "            model = builder.build_basic_cnn()\n",
    "        elif model_type == 'DeeperCNN':\n",
    "            model = builder.build_deeper_cnn()\n",
    "        elif model_type == 'MobileNetV2':\n",
    "            model = builder.build_mobilenetv2()\n",
    "        elif model_type == 'lenet5':\n",
    "            model = builder.build_lenet5()\n",
    "        else:\n",
    "            raise ValueError(f\"Unsupported model type: {model_type}\")\n",
    "\n",
    "        model.compile(optimizer=Adam(), loss='categorical_crossentropy', metrics=['accuracy'])\n",
    "        train_gen, val_gen = self.get_generator(model_type)\n",
    "\n",
    "        print(f\"\\n🔧 Training: {model_type}\")\n",
    "        history = model.fit(train_gen, validation_data=val_gen, epochs=epochs)\n",
    "        return model, history\n"
   ]
  },
  {
   "cell_type": "markdown",
   "id": "d3d9e263499376c1",
   "metadata": {},
   "source": [
    "#### **Train All Models**"
   ]
  },
  {
   "cell_type": "code",
   "execution_count": 60,
   "id": "36cb18cacde6831c",
   "metadata": {
    "ExecuteTime": {
     "end_time": "2025-05-27T23:31:52.286589Z",
     "start_time": "2025-05-27T20:36:03.053087Z"
    }
   },
   "outputs": [
    {
     "name": "stdout",
     "output_type": "stream",
     "text": [
      "\n",
      "🔧 Training: BasicCNN\n",
      "Epoch 1/5\n",
      "667/667 [==============================] - 749s 1s/step - loss: 0.9329 - accuracy: 0.5394 - val_loss: 0.8811 - val_accuracy: 0.5612\n",
      "Epoch 2/5\n",
      "667/667 [==============================] - 757s 1s/step - loss: 0.8729 - accuracy: 0.5731 - val_loss: 0.8295 - val_accuracy: 0.5994\n",
      "Epoch 3/5\n",
      "667/667 [==============================] - 728s 1s/step - loss: 0.8433 - accuracy: 0.5955 - val_loss: 0.8151 - val_accuracy: 0.6082\n",
      "Epoch 4/5\n",
      "667/667 [==============================] - 736s 1s/step - loss: 0.8185 - accuracy: 0.6082 - val_loss: 0.7942 - val_accuracy: 0.6258\n",
      "Epoch 5/5\n",
      "667/667 [==============================] - 741s 1s/step - loss: 0.7888 - accuracy: 0.6270 - val_loss: 0.7876 - val_accuracy: 0.6329\n",
      "\n",
      "🔧 Training: DeeperCNN\n",
      "Epoch 1/5\n",
      "667/667 [==============================] - 790s 1s/step - loss: 0.9503 - accuracy: 0.5174 - val_loss: 0.8581 - val_accuracy: 0.5787\n",
      "Epoch 2/5\n",
      "667/667 [==============================] - 805s 1s/step - loss: 0.8711 - accuracy: 0.5746 - val_loss: 0.8263 - val_accuracy: 0.6066\n",
      "Epoch 3/5\n",
      "667/667 [==============================] - 790s 1s/step - loss: 0.8402 - accuracy: 0.5945 - val_loss: 0.7911 - val_accuracy: 0.6252\n",
      "Epoch 4/5\n",
      "667/667 [==============================] - 798s 1s/step - loss: 0.8156 - accuracy: 0.6153 - val_loss: 0.7918 - val_accuracy: 0.6350\n",
      "Epoch 5/5\n",
      "667/667 [==============================] - 789s 1s/step - loss: 0.8004 - accuracy: 0.6193 - val_loss: 0.7781 - val_accuracy: 0.6354\n",
      "WARNING:tensorflow:`input_shape` is undefined or non-square, or `rows` is not in [96, 128, 160, 192, 224]. Weights for input shape (224, 224) will be loaded as the default.\n",
      "Downloading data from https://storage.googleapis.com/tensorflow/keras-applications/mobilenet_v2/mobilenet_v2_weights_tf_dim_ordering_tf_kernels_1.0_224_no_top.h5\n",
      "9406464/9406464 [==============================] - 0s 0us/step\n",
      "\n",
      "🔧 Training: MobileNetV2\n",
      "Epoch 1/5\n",
      "667/667 [==============================] - 574s 858ms/step - loss: 0.7667 - accuracy: 0.6419 - val_loss: 0.7209 - val_accuracy: 0.6649\n",
      "Epoch 2/5\n",
      "667/667 [==============================] - 570s 855ms/step - loss: 0.7204 - accuracy: 0.6667 - val_loss: 0.7157 - val_accuracy: 0.6593\n",
      "Epoch 3/5\n",
      "667/667 [==============================] - 572s 857ms/step - loss: 0.7061 - accuracy: 0.6781 - val_loss: 0.7227 - val_accuracy: 0.6519\n",
      "Epoch 4/5\n",
      "667/667 [==============================] - 570s 854ms/step - loss: 0.6936 - accuracy: 0.6810 - val_loss: 0.7125 - val_accuracy: 0.6691\n",
      "Epoch 5/5\n",
      "667/667 [==============================] - 573s 859ms/step - loss: 0.6857 - accuracy: 0.6849 - val_loss: 0.7035 - val_accuracy: 0.6659\n"
     ]
    }
   ],
   "source": [
    "trainer = TrainingManager(\n",
    "    processor=train_images,\n",
    "    train_ids=train_ids,\n",
    "    train_labels=train_labels,\n",
    "    val_ids=val_ids,\n",
    "    val_labels=val_labels\n",
    ")\n",
    "\n",
    "models = {}\n",
    "histories = {}\n",
    "\n",
    "for model_type in ['BasicCNN', 'DeeperCNN', 'MobileNetV2']:\n",
    "    model, history = trainer.train_model(model_type=model_type, epochs=5)\n",
    "    models[model_type] = model\n",
    "    histories[model_type] = history\n"
   ]
  },
  {
   "cell_type": "markdown",
   "id": "88eb3dcfc679f4e1",
   "metadata": {},
   "source": [
    "#### **Plot Validation Accuracy Comparison**"
   ]
  },
  {
   "cell_type": "code",
   "execution_count": 61,
   "id": "67a8cdc32cd21a76",
   "metadata": {
    "ExecuteTime": {
     "end_time": "2025-05-28T03:11:34.234225Z",
     "start_time": "2025-05-28T03:11:33.006509Z"
    }
   },
   "outputs": [
    {
     "data": {
      "image/png": "[encoded data removed]",
      "text/plain": [
       "<Figure size 1000x500 with 1 Axes>"
      ]
     },
     "metadata": {},
     "output_type": "display_data"
    }
   ],
   "source": [
    "\n",
    "plt.figure(figsize=(10,5))\n",
    "for name, hist in histories.items():\n",
    "    plt.plot(hist.history['val_accuracy'], label=f\"{name}\")\n",
    "plt.title(\"Validation Accuracy Comparison\")\n",
    "plt.xlabel(\"Epoch\")\n",
    "plt.ylabel(\"Accuracy\")\n",
    "plt.legend()\n",
    "plt.grid(True)\n",
    "plt.show()\n"
   ]
  },
  {
   "cell_type": "markdown",
   "id": "8f45e201e6c44c7c",
   "metadata": {},
   "source": []
  },
  {
   "cell_type": "markdown",
   "id": "c946c802895cb2",
   "metadata": {},
   "source": [
    "### Step 7: Interim Report"
   ]
  }
 ],
 "metadata": {
  "kernelspec": {
   "display_name": "Python 3",
   "language": "python",
   "name": "python3"
  },
  "language_info": {
   "codemirror_mode": {
    "name": "ipython",
    "version": 2
   },
   "file_extension": ".py",
   "mimetype": "text/x-python",
   "name": "python",
   "nbconvert_exporter": "python",
   "pygments_lexer": "ipython2",
   "version": "2.7.6"
  }
 },
 "nbformat": 4,
 "nbformat_minor": 5
}
